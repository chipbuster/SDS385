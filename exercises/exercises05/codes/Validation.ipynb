{
 "cells": [
  {
   "cell_type": "code",
   "execution_count": 1,
   "metadata": {
    "collapsed": false
   },
   "outputs": [],
   "source": [
    "%matplotlib\n",
    "\n",
    "import numpy as np\n",
    "from sklearn.linear_model import lasso_path\n",
    "from sklearn.linear_model import Lasso\n",
    "from numpy.linalg import norm\n",
    "from itertools import cycle\n",
    "import matplotlib.pyplot as plt\n",
    "from crossval import crossValLasso"
   ]
  },
  {
   "cell_type": "code",
   "execution_count": 2,
   "metadata": {
    "collapsed": false
   },
   "outputs": [],
   "source": [
    "## Read in the CSV data\n",
    "data = np.loadtxt(\"diabetesX.csv\",skiprows=1,delimiter=\",\")\n",
    "response = np.loadtxt(\"diabetesY.csv\")"
   ]
  },
  {
   "cell_type": "code",
   "execution_count": 12,
   "metadata": {
    "collapsed": false
   },
   "outputs": [
    {
     "data": {
      "text/plain": [
       "<matplotlib.text.Text at 0x7f1fa764aa20>"
      ]
     },
     "execution_count": 12,
     "metadata": {},
     "output_type": "execute_result"
    },
    {
     "data": {
      "image/png": "[encoded data removed]",
      "text/plain": [
       "<matplotlib.figure.Figure at 0x7f1fa76e2860>"
      ]
     },
     "metadata": {},
     "output_type": "display_data"
    }
   ],
   "source": [
    "## Test Cross Validation\n",
    "\n",
    "testLambdas = [8e-3, 1e-2, 5e-2, 0.1, 0.15, 0.2, 0.3, 0.5, 1]\n",
    "moose = [] # MOOOOOOOSE :D\n",
    "\n",
    "for l in testLambdas:\n",
    "    errs = crossValLasso(data, response, l)\n",
    "    thismoose = sum(errs) / len(errs)\n",
    "    moose.append(thismoose)\n",
    "    \n",
    "plt.plot(testLambdas, moose)\n",
    "plt.xlabel(\"Lambda Value\")\n",
    "plt.ylabel(\"MOOSE\")\n",
    "plt.title(\"MOOSE vs Lambda Value\")"
   ]
  },
  {
   "cell_type": "code",
   "execution_count": null,
   "metadata": {
    "collapsed": true
   },
   "outputs": [],
   "source": [
    "# Test Mallows Cp\n"
   ]
  },
  {
   "cell_type": "code",
   "execution_count": null,
   "metadata": {
    "collapsed": true
   },
   "outputs": [],
   "source": []
  }
 ],
 "metadata": {
  "kernelspec": {
   "display_name": "Python 3",
   "language": "python",
   "name": "python3"
  },
  "language_info": {
   "codemirror_mode": {
    "name": "ipython",
    "version": 3
   },
   "file_extension": ".py",
   "mimetype": "text/x-python",
   "name": "python",
   "nbconvert_exporter": "python",
   "pygments_lexer": "ipython3",
   "version": "3.5.2"
  }
 },
 "nbformat": 4,
 "nbformat_minor": 0
}
