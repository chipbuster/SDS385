{
 "cells": [
  {
   "cell_type": "code",
   "execution_count": 1,
   "metadata": {
    "collapsed": false
   },
   "outputs": [
    {
     "name": "stdout",
     "output_type": "stream",
     "text": [
      "Using matplotlib backend: Qt5Agg\n",
      "Populating the interactive namespace from numpy and matplotlib\n"
     ]
    }
   ],
   "source": [
    "%pylab"
   ]
  },
  {
   "cell_type": "code",
   "execution_count": 6,
   "metadata": {
    "collapsed": true
   },
   "outputs": [],
   "source": [
    "# Generate \"sparse\" vector with explicit zeros--dense is find with <10k entries\n",
    "import scipy.stats\n",
    "\n",
    "mean = 2    # All nonzero samples have the same stdev\n",
    "vectorSize = 100\n",
    "nonSparseEvery = 8 \n",
    "theta = np.zeros(vectorSize)\n",
    "\n",
    "for j in range(vectorSize):\n",
    "    if j % nonSparseEvery == 0:\n",
    "        theta[j] = mean"
   ]
  },
  {
   "cell_type": "code",
   "execution_count": 7,
   "metadata": {
    "collapsed": true
   },
   "outputs": [],
   "source": [
    "ys = np.zeros(vectorSize)\n",
    "for j in range(vectorSize):\n",
    "    ys[j] = scipy.stats.norm.rvs(mean)"
   ]
  },
  {
   "cell_type": "code",
   "execution_count": 11,
   "metadata": {
    "collapsed": true
   },
   "outputs": [],
   "source": [
    "def soft_thresh(y, lam):\n",
    "    return np.sign(y) * np.maximum(np.absolute(y) - lam, np.zeros(np.shape(y)))"
   ]
  },
  {
   "cell_type": "code",
   "execution_count": 22,
   "metadata": {
    "collapsed": false
   },
   "outputs": [],
   "source": [
    "thetaEstimates = []\n",
    "lambdas = [1e-4, 1e-3, 1e-2, 0.1, 1.0, 2.0, 3.0]\n",
    "for lam in lambdas:\n",
    "    thetaEstimates.append(soft_thresh(ys,lam))\n",
    "    "
   ]
  },
  {
   "cell_type": "code",
   "execution_count": 24,
   "metadata": {
    "collapsed": false
   },
   "outputs": [],
   "source": [
    "colors = \"bgrcmyk\"\n",
    "color_index = 0\n",
    "\n",
    "for x in range(len(lambdas)):\n",
    "    plt.plot(range(vectorSize), thetaEstimates[x], c=colors[x % len(colors)], label=str(lambdas[x]))\n",
    "\n",
    "plt.legend()\n",
    "plt.show()\n",
    "    \n"
   ]
  },
  {
   "cell_type": "code",
   "execution_count": null,
   "metadata": {
    "collapsed": true
   },
   "outputs": [],
   "source": []
  }
 ],
 "metadata": {
  "kernelspec": {
   "display_name": "Python 3",
   "language": "python",
   "name": "python3"
  },
  "language_info": {
   "codemirror_mode": {
    "name": "ipython",
    "version": 3
   },
   "file_extension": ".py",
   "mimetype": "text/x-python",
   "name": "python",
   "nbconvert_exporter": "python",
   "pygments_lexer": "ipython3",
   "version": "3.5.2"
  }
 },
 "nbformat": 4,
 "nbformat_minor": 0
}
